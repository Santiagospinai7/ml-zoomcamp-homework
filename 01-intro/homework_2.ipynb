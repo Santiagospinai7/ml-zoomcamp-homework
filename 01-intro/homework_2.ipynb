{
 "cells": [
  {
   "cell_type": "code",
   "execution_count": 1,
   "id": "58910871-f009-45c9-9720-efd0db88ee90",
   "metadata": {},
   "outputs": [],
   "source": [
    "import pandas as pd"
   ]
  },
  {
   "cell_type": "code",
   "execution_count": 5,
   "id": "22350aa6-d160-4841-8904-06b5792773e7",
   "metadata": {},
   "outputs": [],
   "source": [
    "df = pd.read_csv('https://raw.githubusercontent.com/alexeygrigorev/datasets/master/laptops.csv')"
   ]
  },
  {
   "cell_type": "code",
   "execution_count": 6,
   "id": "9af34364-d954-4b32-bb28-bd5b74790782",
   "metadata": {},
   "outputs": [
    {
     "data": {
      "text/html": [
       "<div>\n",
       "<style scoped>\n",
       "    .dataframe tbody tr th:only-of-type {\n",
       "        vertical-align: middle;\n",
       "    }\n",
       "\n",
       "    .dataframe tbody tr th {\n",
       "        vertical-align: top;\n",
       "    }\n",
       "\n",
       "    .dataframe thead th {\n",
       "        text-align: right;\n",
       "    }\n",
       "</style>\n",
       "<table border=\"1\" class=\"dataframe\">\n",
       "  <thead>\n",
       "    <tr style=\"text-align: right;\">\n",
       "      <th></th>\n",
       "      <th>Laptop</th>\n",
       "      <th>Status</th>\n",
       "      <th>Brand</th>\n",
       "      <th>Model</th>\n",
       "      <th>CPU</th>\n",
       "      <th>RAM</th>\n",
       "      <th>Storage</th>\n",
       "      <th>Storage type</th>\n",
       "      <th>GPU</th>\n",
       "      <th>Screen</th>\n",
       "      <th>Touch</th>\n",
       "      <th>Final Price</th>\n",
       "    </tr>\n",
       "  </thead>\n",
       "  <tbody>\n",
       "    <tr>\n",
       "      <th>0</th>\n",
       "      <td>ASUS ExpertBook B1 B1502CBA-EJ0436X Intel Core...</td>\n",
       "      <td>New</td>\n",
       "      <td>Asus</td>\n",
       "      <td>ExpertBook</td>\n",
       "      <td>Intel Core i5</td>\n",
       "      <td>8</td>\n",
       "      <td>512</td>\n",
       "      <td>SSD</td>\n",
       "      <td>NaN</td>\n",
       "      <td>15.6</td>\n",
       "      <td>No</td>\n",
       "      <td>1009.00</td>\n",
       "    </tr>\n",
       "    <tr>\n",
       "      <th>1</th>\n",
       "      <td>Alurin Go Start Intel Celeron N4020/8GB/256GB ...</td>\n",
       "      <td>New</td>\n",
       "      <td>Alurin</td>\n",
       "      <td>Go</td>\n",
       "      <td>Intel Celeron</td>\n",
       "      <td>8</td>\n",
       "      <td>256</td>\n",
       "      <td>SSD</td>\n",
       "      <td>NaN</td>\n",
       "      <td>15.6</td>\n",
       "      <td>No</td>\n",
       "      <td>299.00</td>\n",
       "    </tr>\n",
       "    <tr>\n",
       "      <th>2</th>\n",
       "      <td>ASUS ExpertBook B1 B1502CBA-EJ0424X Intel Core...</td>\n",
       "      <td>New</td>\n",
       "      <td>Asus</td>\n",
       "      <td>ExpertBook</td>\n",
       "      <td>Intel Core i3</td>\n",
       "      <td>8</td>\n",
       "      <td>256</td>\n",
       "      <td>SSD</td>\n",
       "      <td>NaN</td>\n",
       "      <td>15.6</td>\n",
       "      <td>No</td>\n",
       "      <td>789.00</td>\n",
       "    </tr>\n",
       "    <tr>\n",
       "      <th>3</th>\n",
       "      <td>MSI Katana GF66 12UC-082XES Intel Core i7-1270...</td>\n",
       "      <td>New</td>\n",
       "      <td>MSI</td>\n",
       "      <td>Katana</td>\n",
       "      <td>Intel Core i7</td>\n",
       "      <td>16</td>\n",
       "      <td>1000</td>\n",
       "      <td>SSD</td>\n",
       "      <td>RTX 3050</td>\n",
       "      <td>15.6</td>\n",
       "      <td>No</td>\n",
       "      <td>1199.00</td>\n",
       "    </tr>\n",
       "    <tr>\n",
       "      <th>4</th>\n",
       "      <td>HP 15S-FQ5085NS Intel Core i5-1235U/16GB/512GB...</td>\n",
       "      <td>New</td>\n",
       "      <td>HP</td>\n",
       "      <td>15S</td>\n",
       "      <td>Intel Core i5</td>\n",
       "      <td>16</td>\n",
       "      <td>512</td>\n",
       "      <td>SSD</td>\n",
       "      <td>NaN</td>\n",
       "      <td>15.6</td>\n",
       "      <td>No</td>\n",
       "      <td>669.01</td>\n",
       "    </tr>\n",
       "    <tr>\n",
       "      <th>...</th>\n",
       "      <td>...</td>\n",
       "      <td>...</td>\n",
       "      <td>...</td>\n",
       "      <td>...</td>\n",
       "      <td>...</td>\n",
       "      <td>...</td>\n",
       "      <td>...</td>\n",
       "      <td>...</td>\n",
       "      <td>...</td>\n",
       "      <td>...</td>\n",
       "      <td>...</td>\n",
       "      <td>...</td>\n",
       "    </tr>\n",
       "    <tr>\n",
       "      <th>2155</th>\n",
       "      <td>Razer Blade 17 FHD 360Hz Intel Core i7-11800H/...</td>\n",
       "      <td>Refurbished</td>\n",
       "      <td>Razer</td>\n",
       "      <td>Blade</td>\n",
       "      <td>Intel Core i7</td>\n",
       "      <td>16</td>\n",
       "      <td>1000</td>\n",
       "      <td>SSD</td>\n",
       "      <td>RTX 3060</td>\n",
       "      <td>17.3</td>\n",
       "      <td>No</td>\n",
       "      <td>2699.99</td>\n",
       "    </tr>\n",
       "    <tr>\n",
       "      <th>2156</th>\n",
       "      <td>Razer Blade 17 FHD 360Hz Intel Core i7-11800H/...</td>\n",
       "      <td>Refurbished</td>\n",
       "      <td>Razer</td>\n",
       "      <td>Blade</td>\n",
       "      <td>Intel Core i7</td>\n",
       "      <td>16</td>\n",
       "      <td>1000</td>\n",
       "      <td>SSD</td>\n",
       "      <td>RTX 3070</td>\n",
       "      <td>17.3</td>\n",
       "      <td>No</td>\n",
       "      <td>2899.99</td>\n",
       "    </tr>\n",
       "    <tr>\n",
       "      <th>2157</th>\n",
       "      <td>Razer Blade 17 FHD 360Hz Intel Core i7-11800H/...</td>\n",
       "      <td>Refurbished</td>\n",
       "      <td>Razer</td>\n",
       "      <td>Blade</td>\n",
       "      <td>Intel Core i7</td>\n",
       "      <td>32</td>\n",
       "      <td>1000</td>\n",
       "      <td>SSD</td>\n",
       "      <td>RTX 3080</td>\n",
       "      <td>17.3</td>\n",
       "      <td>No</td>\n",
       "      <td>3399.99</td>\n",
       "    </tr>\n",
       "    <tr>\n",
       "      <th>2158</th>\n",
       "      <td>Razer Book 13 Intel Evo Core i7-1165G7/16GB/1T...</td>\n",
       "      <td>Refurbished</td>\n",
       "      <td>Razer</td>\n",
       "      <td>Book</td>\n",
       "      <td>Intel Evo Core i7</td>\n",
       "      <td>16</td>\n",
       "      <td>1000</td>\n",
       "      <td>SSD</td>\n",
       "      <td>NaN</td>\n",
       "      <td>13.4</td>\n",
       "      <td>Yes</td>\n",
       "      <td>1899.99</td>\n",
       "    </tr>\n",
       "    <tr>\n",
       "      <th>2159</th>\n",
       "      <td>Razer Book FHD+ Intel Evo Core i7-1165G7/16GB/...</td>\n",
       "      <td>Refurbished</td>\n",
       "      <td>Razer</td>\n",
       "      <td>Book</td>\n",
       "      <td>Intel Evo Core i7</td>\n",
       "      <td>16</td>\n",
       "      <td>256</td>\n",
       "      <td>SSD</td>\n",
       "      <td>NaN</td>\n",
       "      <td>13.4</td>\n",
       "      <td>Yes</td>\n",
       "      <td>1699.99</td>\n",
       "    </tr>\n",
       "  </tbody>\n",
       "</table>\n",
       "<p>2160 rows × 12 columns</p>\n",
       "</div>"
      ],
      "text/plain": [
       "                                                 Laptop       Status   Brand  \\\n",
       "0     ASUS ExpertBook B1 B1502CBA-EJ0436X Intel Core...          New    Asus   \n",
       "1     Alurin Go Start Intel Celeron N4020/8GB/256GB ...          New  Alurin   \n",
       "2     ASUS ExpertBook B1 B1502CBA-EJ0424X Intel Core...          New    Asus   \n",
       "3     MSI Katana GF66 12UC-082XES Intel Core i7-1270...          New     MSI   \n",
       "4     HP 15S-FQ5085NS Intel Core i5-1235U/16GB/512GB...          New      HP   \n",
       "...                                                 ...          ...     ...   \n",
       "2155  Razer Blade 17 FHD 360Hz Intel Core i7-11800H/...  Refurbished   Razer   \n",
       "2156  Razer Blade 17 FHD 360Hz Intel Core i7-11800H/...  Refurbished   Razer   \n",
       "2157  Razer Blade 17 FHD 360Hz Intel Core i7-11800H/...  Refurbished   Razer   \n",
       "2158  Razer Book 13 Intel Evo Core i7-1165G7/16GB/1T...  Refurbished   Razer   \n",
       "2159  Razer Book FHD+ Intel Evo Core i7-1165G7/16GB/...  Refurbished   Razer   \n",
       "\n",
       "           Model                CPU  RAM  Storage Storage type       GPU  \\\n",
       "0     ExpertBook      Intel Core i5    8      512          SSD       NaN   \n",
       "1             Go      Intel Celeron    8      256          SSD       NaN   \n",
       "2     ExpertBook      Intel Core i3    8      256          SSD       NaN   \n",
       "3         Katana      Intel Core i7   16     1000          SSD  RTX 3050   \n",
       "4            15S      Intel Core i5   16      512          SSD       NaN   \n",
       "...          ...                ...  ...      ...          ...       ...   \n",
       "2155       Blade      Intel Core i7   16     1000          SSD  RTX 3060   \n",
       "2156       Blade      Intel Core i7   16     1000          SSD  RTX 3070   \n",
       "2157       Blade      Intel Core i7   32     1000          SSD  RTX 3080   \n",
       "2158        Book  Intel Evo Core i7   16     1000          SSD       NaN   \n",
       "2159        Book  Intel Evo Core i7   16      256          SSD       NaN   \n",
       "\n",
       "      Screen Touch  Final Price  \n",
       "0       15.6    No      1009.00  \n",
       "1       15.6    No       299.00  \n",
       "2       15.6    No       789.00  \n",
       "3       15.6    No      1199.00  \n",
       "4       15.6    No       669.01  \n",
       "...      ...   ...          ...  \n",
       "2155    17.3    No      2699.99  \n",
       "2156    17.3    No      2899.99  \n",
       "2157    17.3    No      3399.99  \n",
       "2158    13.4   Yes      1899.99  \n",
       "2159    13.4   Yes      1699.99  \n",
       "\n",
       "[2160 rows x 12 columns]"
      ]
     },
     "execution_count": 6,
     "metadata": {},
     "output_type": "execute_result"
    }
   ],
   "source": [
    "df"
   ]
  },
  {
   "cell_type": "code",
   "execution_count": 8,
   "id": "d1fdb195-fb89-4a4b-8274-ee5961cf9439",
   "metadata": {},
   "outputs": [
    {
     "data": {
      "text/plain": [
       "2160"
      ]
     },
     "execution_count": 8,
     "metadata": {},
     "output_type": "execute_result"
    }
   ],
   "source": [
    "# How many records are in the database: 2160\n",
    "records = len(df.index)\n",
    "records"
   ]
  },
  {
   "cell_type": "code",
   "execution_count": 17,
   "id": "75678772-5403-44bf-abcd-942e0d1e765e",
   "metadata": {},
   "outputs": [
    {
     "data": {
      "text/plain": [
       "Index(['Laptop', 'Status', 'Brand', 'Model', 'CPU', 'RAM', 'Storage',\n",
       "       'Storage type', 'GPU', 'Screen', 'Touch', 'Final Price'],\n",
       "      dtype='object')"
      ]
     },
     "execution_count": 17,
     "metadata": {},
     "output_type": "execute_result"
    }
   ],
   "source": [
    "df.columns"
   ]
  },
  {
   "cell_type": "code",
   "execution_count": 18,
   "id": "7a992693-d121-4791-927a-a45a2c8e9b10",
   "metadata": {},
   "outputs": [
    {
     "data": {
      "text/plain": [
       "0       ASUS ExpertBook B1 B1502CBA-EJ0436X Intel Core...\n",
       "1       Alurin Go Start Intel Celeron N4020/8GB/256GB ...\n",
       "2       ASUS ExpertBook B1 B1502CBA-EJ0424X Intel Core...\n",
       "3       MSI Katana GF66 12UC-082XES Intel Core i7-1270...\n",
       "4       HP 15S-FQ5085NS Intel Core i5-1235U/16GB/512GB...\n",
       "                              ...                        \n",
       "2155    Razer Blade 17 FHD 360Hz Intel Core i7-11800H/...\n",
       "2156    Razer Blade 17 FHD 360Hz Intel Core i7-11800H/...\n",
       "2157    Razer Blade 17 FHD 360Hz Intel Core i7-11800H/...\n",
       "2158    Razer Book 13 Intel Evo Core i7-1165G7/16GB/1T...\n",
       "2159    Razer Book FHD+ Intel Evo Core i7-1165G7/16GB/...\n",
       "Name: Laptop, Length: 2160, dtype: object"
      ]
     },
     "execution_count": 18,
     "metadata": {},
     "output_type": "execute_result"
    }
   ],
   "source": [
    "df.Laptop"
   ]
  },
  {
   "cell_type": "code",
   "execution_count": 21,
   "id": "65676b22-ad24-414f-951c-bbf9a4573772",
   "metadata": {},
   "outputs": [],
   "source": [
    "df.Laptop = df['Laptop'].str.replace(' ', '_').str.lower()"
   ]
  },
  {
   "cell_type": "code",
   "execution_count": 22,
   "id": "0b53eb44-956a-45be-9a48-a14ad75dd048",
   "metadata": {},
   "outputs": [
    {
     "data": {
      "text/plain": [
       "0       asus_expertbook_b1_b1502cba-ej0436x_intel_core...\n",
       "1       alurin_go_start_intel_celeron_n4020/8gb/256gb_...\n",
       "2       asus_expertbook_b1_b1502cba-ej0424x_intel_core...\n",
       "3       msi_katana_gf66_12uc-082xes_intel_core_i7-1270...\n",
       "4       hp_15s-fq5085ns_intel_core_i5-1235u/16gb/512gb...\n",
       "                              ...                        \n",
       "2155    razer_blade_17_fhd_360hz_intel_core_i7-11800h/...\n",
       "2156    razer_blade_17_fhd_360hz_intel_core_i7-11800h/...\n",
       "2157    razer_blade_17_fhd_360hz_intel_core_i7-11800h/...\n",
       "2158    razer_book_13_intel_evo_core_i7-1165g7/16gb/1t...\n",
       "2159    razer_book_fhd+_intel_evo_core_i7-1165g7/16gb/...\n",
       "Name: Laptop, Length: 2160, dtype: object"
      ]
     },
     "execution_count": 22,
     "metadata": {},
     "output_type": "execute_result"
    }
   ],
   "source": [
    "df.Laptop"
   ]
  },
  {
   "cell_type": "code",
   "execution_count": 39,
   "id": "4c7102d3-adae-4517-96a9-3f942cf28a47",
   "metadata": {},
   "outputs": [],
   "source": [
    "df['Brand'] = df['Laptop'].str.split('_').str[0].str.lower().str.strip()"
   ]
  },
  {
   "cell_type": "code",
   "execution_count": 40,
   "id": "50eb1bc6-d057-455a-889b-ed7c3b5bc4cb",
   "metadata": {},
   "outputs": [
    {
     "name": "stdout",
     "output_type": "stream",
     "text": [
      "Unique brands: ['asus' 'alurin' 'msi' 'hp' 'lenovo' 'medion' 'acer' 'apple' 'razer'\n",
      " 'gigabyte' 'dell' 'lg' 'portátil' 'samsung' 'pccom' 'microsoft' 'primux'\n",
      " 'prixton' 'dynabook' 'thomson' 'denver' 'deep' 'vant' 'aspire' 'conceptd'\n",
      " 'innjoo' 'jetwing' 'millenium' 'realme' 'toshiba']\n",
      "Number of unique brands: 30\n"
     ]
    }
   ],
   "source": [
    "unique_brands = df['Brand'].unique()\n",
    "num_unique_brands = len(unique_brands)\n",
    "\n",
    "print(f\"Unique brands: {unique_brands}\")\n",
    "print(f\"Number of unique brands: {num_unique_brands}\")"
   ]
  },
  {
   "cell_type": "code",
   "execution_count": 41,
   "id": "a51c5ffd-2ceb-4ea7-829c-c656022cc208",
   "metadata": {},
   "outputs": [
    {
     "name": "stdout",
     "output_type": "stream",
     "text": [
      "Brand\n",
      "asus         415\n",
      "hp           368\n",
      "lenovo       366\n",
      "msi          308\n",
      "acer         135\n",
      "apple        116\n",
      "dell          84\n",
      "microsoft     77\n",
      "gigabyte      47\n",
      "razer         37\n",
      "medion        32\n",
      "lg            32\n",
      "alurin        28\n",
      "pccom         24\n",
      "samsung       22\n",
      "dynabook      19\n",
      "vant          11\n",
      "deep           8\n",
      "primux         8\n",
      "innjoo         6\n",
      "thomson        4\n",
      "prixton        3\n",
      "portátil       2\n",
      "millenium      2\n",
      "denver         1\n",
      "aspire         1\n",
      "conceptd       1\n",
      "jetwing        1\n",
      "realme         1\n",
      "toshiba        1\n",
      "Name: count, dtype: int64\n"
     ]
    }
   ],
   "source": [
    "brand_counts = df['Brand'].value_counts()\n",
    "print(brand_counts)"
   ]
  },
  {
   "cell_type": "code",
   "execution_count": 44,
   "id": "9322dc14-add4-41ca-9f0d-2bd5544ba1ab",
   "metadata": {},
   "outputs": [],
   "source": [
    "brand_mapping = {\n",
    "    'aspire': 'acer',\n",
    "    'conceptd': 'acer',\n",
    "    'portátil': None,\n",
    "    'millenium': None,\n",
    "    'jetwing': None,\n",
    "    'denver': None,\n",
    "    'deep': None,\n",
    "    'vant': None,\n",
    "    'primux': None,\n",
    "    'prixton': None,\n",
    "    'dynabook': 'toshiba',\n",
    "    'thomson': None,\n",
    "    'innjoo': None,\n",
    "    'realme': None,\n",
    "    'toshiba': 'toshiba'\n",
    "}"
   ]
  },
  {
   "cell_type": "code",
   "execution_count": 45,
   "id": "41bbb839-7a1a-4a28-b92f-3586edc25c6a",
   "metadata": {},
   "outputs": [],
   "source": [
    "# Apply mapping to standardize brands\n",
    "df['Cleaned_Brand'] = df['Brand'].map(brand_mapping).fillna(df['Brand'])\n",
    "\n",
    "# Remove any entries mapped to None\n",
    "df = df[df['Cleaned_Brand'].notna()]"
   ]
  },
  {
   "cell_type": "code",
   "execution_count": 46,
   "id": "751f2c83-7356-40cf-bd61-a5c9f16cc0c8",
   "metadata": {},
   "outputs": [
    {
     "name": "stdout",
     "output_type": "stream",
     "text": [
      "Unique cleaned brands: ['asus' 'alurin' 'msi' 'hp' 'lenovo' 'medion' 'acer' 'apple' 'razer'\n",
      " 'gigabyte' 'dell' 'lg' 'portátil' 'samsung' 'pccom' 'microsoft' 'primux'\n",
      " 'prixton' 'toshiba' 'thomson' 'denver' 'deep' 'vant' 'innjoo' 'jetwing'\n",
      " 'millenium' 'realme']\n",
      "Number of cleaned unique brands: 27\n"
     ]
    }
   ],
   "source": [
    "unique_brands = df['Cleaned_Brand'].unique()\n",
    "num_unique_brands = len(unique_brands)\n",
    "\n",
    "print(f\"Unique cleaned brands: {unique_brands}\")\n",
    "print(f\"Number of cleaned unique brands: {num_unique_brands}\")"
   ]
  },
  {
   "cell_type": "code",
   "execution_count": 50,
   "id": "d3a0db83-2018-4b5b-8f2d-8b5cab3b6e1a",
   "metadata": {},
   "outputs": [
    {
     "data": {
      "text/plain": [
       "Laptop              0\n",
       "Status              0\n",
       "Brand               0\n",
       "Model               0\n",
       "CPU                 0\n",
       "RAM                 0\n",
       "Storage             0\n",
       "Storage type       42\n",
       "GPU              1371\n",
       "Screen              4\n",
       "Touch               0\n",
       "Final Price         0\n",
       "Cleaned_Brand       0\n",
       "dtype: int64"
      ]
     },
     "execution_count": 50,
     "metadata": {},
     "output_type": "execute_result"
    }
   ],
   "source": [
    "# Columns with null values: 3\n",
    "df.isnull().sum()"
   ]
  },
  {
   "cell_type": "code",
   "execution_count": null,
   "id": "046b809a-bd6a-4a4d-b4c7-12c5559c0109",
   "metadata": {},
   "outputs": [],
   "source": []
  }
 ],
 "metadata": {
  "kernelspec": {
   "display_name": "Python 3 (ipykernel)",
   "language": "python",
   "name": "python3"
  },
  "language_info": {
   "codemirror_mode": {
    "name": "ipython",
    "version": 3
   },
   "file_extension": ".py",
   "mimetype": "text/x-python",
   "name": "python",
   "nbconvert_exporter": "python",
   "pygments_lexer": "ipython3",
   "version": "3.11.7"
  }
 },
 "nbformat": 4,
 "nbformat_minor": 5
}
